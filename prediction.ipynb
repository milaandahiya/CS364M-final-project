{
 "cells": [
  {
   "cell_type": "markdown",
   "metadata": {},
   "source": [
    "# NBA Success for Draft Prospects: Research and Extension"
   ]
  },
  {
   "cell_type": "markdown",
   "metadata": {},
   "source": [
    "## Data Processing\n",
    "We will combine player information and NBA Combine statistics from this dataset (https://www.kaggle.com/datasets/wyattowalsh/basketball/data) with the Win Shares data from this dataset (https://www.kaggle.com/datasets/robertsunderhaft/nba-player-season-statistics-with-mvp-win-share/data). We will be using NBA Combine (solely, without the inclusion of college basketball performance data, as is explained in the \"Random Forest with LOOCV\" section) data to predict Win Shares, as was done in the papers that we researched."
   ]
  },
  {
   "cell_type": "code",
   "execution_count": 2,
   "metadata": {},
   "outputs": [],
   "source": [
    "import pandas as pd\n",
    "\n",
    "# Player info, draft combine stats, and win shares data\n",
    "player_df = pd.read_csv('Data/common_player_info.csv')\n",
    "draft_df = pd.read_csv('Data/draft_combine_stats.csv')\n",
    "ws_df = pd.read_csv('Data/NBA_Dataset.csv')\n",
    "\n",
    "# Dropping irrelevant columns\n",
    "# print(\"Player DataFrame:\")\n",
    "# print(player_df.head())\n",
    "player_df = player_df.drop(player_df.columns[10:29].tolist() + [player_df.columns[7], player_df.columns[32]], axis=1)\n",
    "# print(\"Player DataFrame:\")\n",
    "# print(player_df.head())\n",
    "# print(\"\\nDraft DataFrame:\")\n",
    "# print(draft_df.head())\n",
    "draft_df = draft_df.drop(draft_df.columns[24:47].tolist() + [draft_df.columns[8], draft_df.columns[9], draft_df.columns[16], draft_df.columns[17], draft_df.columns[21]], axis=1)\n",
    "# print(\"\\nDraft DataFrame:\")\n",
    "# print(draft_df.head())\n",
    "# print(\"\\nWS DataFrame:\")\n",
    "# print(ws_df.head())\n",
    "\n",
    "# Computing the average win share for a player's career, since they were broken up by season\n",
    "average_ws = ws_df.groupby('player')['ws'].mean()\n",
    "average_ws_df = average_ws.reset_index()\n",
    "average_ws_df.columns = ['Player', 'Average WS']\n",
    "# print(average_ws_df)\n",
    "\n",
    "# Merging all of the datasets\n",
    "merge_1 = pd.merge(player_df, draft_df, left_on='display_first_last', right_on='player_name', how='inner')\n",
    "# print(\"\\nMerge 1:\")\n",
    "# merge_1.head()\n",
    "merge_2 = pd.merge(merge_1, average_ws_df, left_on='display_first_last', right_on='Player', how='inner')\n",
    "# print(\"\\nMerge 2:\")\n",
    "# print(merge_2.head())\n",
    "\n",
    "# Immputing NaN values and removing rows with NaN values in non-integer columns (only 17 records removed)\n",
    "# nan_count = merge_2.isna().any(axis=1).sum()\n",
    "# print(f\"Number of rows containing at least one NaN: {nan_count}\")\n",
    "merge_2.fillna(merge_2.mean(numeric_only=True), inplace=True)\n",
    "# nan_count = merge_2.isna().any(axis=1).sum()\n",
    "# print(f\"Number of rows containing at least one NaN: {nan_count}\")\n",
    "merge_2.dropna(inplace=True)\n",
    "\n",
    "# Dropping duplicate columns, such as name\n",
    "# print(merge_2.columns)\n",
    "merge_2 = merge_2.drop(merge_2.columns[[0, 1, 2, 4, 5, 6, 12, 13, 14, 15, 16, 31]], axis=1)\n",
    "merge_2.rename(columns={'Average WS' : 'avg_ws'}, inplace=True)\n",
    "# merge_2.head()\n",
    "final_df = merge_2\n",
    "\n",
    "# At this point, final_df has all the data that we will use for the model. Goal is to predict 'avg_ws' using everything except 'name', 'draft_year', 'draft_round', and 'draft_number'\n",
    "# some of the columns are duplicate data, just different units of measurement. we will only use the columns with a single unit of measurement\n",
    "features = ['avg_ws', 'school', 'country', 'position', 'height_wo_shoes', 'weight', 'wingspan', 'standing_reach', 'body_fat_pct', 'standing_vertical_leap', 'max_vertical_leap', 'lane_agility_time', 'three_quarter_sprint', 'bench_press']\n",
    "data = final_df[features].copy()\n",
    "# class label is 'avg_ws'\n",
    "X = data.drop('avg_ws', axis=1)\n",
    "y = data['avg_ws']"
   ]
  },
  {
   "cell_type": "markdown",
   "metadata": {},
   "source": [
    "In the above cell, we are processing our data to get it ready to train on. We are first merging two datasets, one containing NBA combine data and the other containing win share data. We use player names to merge the data. We removed redundant features, such as first name/last name columns, and removed records with NaN values for qualitative features, which only removed 17 total records. We imputed NaN values with the average of that column. Win share data was originally broken down by player *and* season, so we calculated the average win shares per season for each player and added this as a feature to our dataset."
   ]
  },
  {
   "cell_type": "markdown",
   "metadata": {},
   "source": [
    "## Linear Regression"
   ]
  },
  {
   "cell_type": "code",
   "execution_count": 3,
   "metadata": {},
   "outputs": [
    {
     "name": "stdout",
     "output_type": "stream",
     "text": [
      "4.021977822856798\n",
      "-0.011124270365519884\n"
     ]
    },
    {
     "data": {
      "text/plain": [
       "Text(0, 0.5, 'Predicted')"
      ]
     },
     "execution_count": 3,
     "metadata": {},
     "output_type": "execute_result"
    },
    {
     "data": {
      "image/png": "[encoded data removed]",
      "text/plain": [
       "<Figure size 640x480 with 1 Axes>"
      ]
     },
     "metadata": {},
     "output_type": "display_data"
    }
   ],
   "source": [
    "import matplotlib.pyplot as plt\n",
    "from sklearn.model_selection import train_test_split\n",
    "from sklearn.linear_model import LinearRegression\n",
    "from sklearn.metrics import mean_squared_error, r2_score\n",
    "\n",
    "# drop non-numeric columns for linear regression\n",
    "X = X.drop(['school', 'country', 'position'], axis=1)\n",
    "# Splitting the data into training and testing sets\n",
    "X_train, X_test, y_train, y_test = train_test_split(X, y, test_size=0.2, random_state=420)\n",
    "\n",
    "model = LinearRegression()\n",
    "model.fit(X_train, y_train)\n",
    "y_pred = model.predict(X_test)\n",
    "print(mean_squared_error(y_test, y_pred))\n",
    "print(r2_score(y_test, y_pred))\n",
    "\n",
    "plt.scatter(y_test, y_pred)\n",
    "plt.xlabel('Actual')\n",
    "plt.ylabel('Predicted')"
   ]
  },
  {
   "cell_type": "markdown",
   "metadata": {},
   "source": [
    "For the linear regression model, we dropped all categorical columns and only used numerical data. I would expect this model to be the worst-performing one, partially because it uses the least amount of data, but also because many combine traits don't scale linearly with in-game performance. The r2 score is -0.01, which means we would have been better off guessing the average. The third paper had similar findings, in that an NBA players win-shares combine performance is relatively uncorrelated in a linear regression model. In accordance with the findings in the third paper, we believe that different models would better suit our dataset."
   ]
  },
  {
   "cell_type": "markdown",
   "metadata": {},
   "source": [
    "## Multi-class SVM"
   ]
  },
  {
   "cell_type": "code",
   "execution_count": 124,
   "metadata": {},
   "outputs": [
    {
     "name": "stdout",
     "output_type": "stream",
     "text": [
      "2-class accuracy: 0.7786885245901639\n",
      "2-class MSE:  0.22131147540983606\n",
      "3-class accuracy: 0.4344262295081967\n",
      "3-class MSE:  0.8852459016393442\n",
      "5-class accuracy: 0.4262295081967213\n",
      "5-class MSE:  1.7950819672131149\n"
     ]
    }
   ],
   "source": [
    "from sklearn.model_selection import train_test_split\n",
    "from sklearn.svm import SVC\n",
    "from sklearn.preprocessing import StandardScaler, OneHotEncoder\n",
    "from sklearn.compose import ColumnTransformer\n",
    "from sklearn.pipeline import Pipeline\n",
    "from sklearn.metrics import mean_squared_error\n",
    "from sklearn.decomposition import PCA\n",
    "\n",
    "# 2-class SVM\n",
    "X = data.drop('avg_ws', axis=1)\n",
    "y = data['avg_ws']\n",
    "\n",
    "# create binary groups at bottom 80 percentile and top 20 percentile for the 2-class SVM\n",
    "y = pd.qcut(y, q=[0, 0.8, 1.0], labels=[0, 1])\n",
    "\n",
    "# define the categorical columns\n",
    "cat_cols = ['school', 'country', 'position']\n",
    "\n",
    "# apply one-hot encoding to categorical columns\n",
    "preprocessor = ColumnTransformer(\n",
    "    transformers=[\n",
    "        ('cat', OneHotEncoder(handle_unknown='ignore'), cat_cols)\n",
    "    ],\n",
    "    remainder='passthrough'\n",
    ")\n",
    "\n",
    "# Create a pipeline to preprocess the data and train the SVM\n",
    "pipeline = Pipeline(\n",
    "    steps=[\n",
    "        ('preprocessor', preprocessor),\n",
    "        ('scaler', StandardScaler(with_mean=False)),\n",
    "        ('svm', SVC(kernel='linear', C=1.0, random_state=420))\n",
    "    ]\n",
    ")\n",
    "\n",
    "# split the data into training and testing sets\n",
    "X_train, X_test, y_train, y_test = train_test_split(X, y, test_size=0.2, random_state=420)\n",
    "\n",
    "# train the pipeline\n",
    "pipeline.fit(X_train, y_train)\n",
    "\n",
    "# predict the classes for the test set\n",
    "y_pred = pipeline.predict(X_test)\n",
    "\n",
    "accuracy = pipeline.score(X_test, y_test)\n",
    "print(\"2-class accuracy:\", accuracy)\n",
    "print(\"2-class MSE: \", mean_squared_error(y_test, y_pred))\n",
    "\n",
    "\n",
    "# =========================================================\n",
    "# 3-class SVM\n",
    "X = data.drop('avg_ws', axis=1)\n",
    "y = data['avg_ws']\n",
    "\n",
    "y = pd.qcut(y, q=[0, 0.5, 0.9, 1.0], labels=[0, 1, 2])\n",
    "\n",
    "cat_cols = ['school', 'country', 'position']\n",
    "\n",
    "preprocessor = ColumnTransformer(\n",
    "    transformers=[\n",
    "        ('cat', OneHotEncoder(handle_unknown='ignore'), cat_cols)\n",
    "    ],\n",
    "    remainder='passthrough'\n",
    ")\n",
    "\n",
    "pipeline = Pipeline(\n",
    "    steps=[\n",
    "        ('preprocessor', preprocessor),\n",
    "        ('scaler', StandardScaler(with_mean=False)),\n",
    "        ('svm', SVC(kernel='linear', C=1.0, decision_function_shape='ovr', random_state=420))\n",
    "    ]\n",
    ")\n",
    "\n",
    "X_train, X_test, y_train, y_test = train_test_split(X, y, test_size=0.2, random_state=420)\n",
    "\n",
    "pipeline.fit(X_train, y_train)\n",
    "y_pred = pipeline.predict(X_test)\n",
    "\n",
    "accuracy = pipeline.score(X_test, y_test)\n",
    "print(\"3-class accuracy:\", accuracy)\n",
    "print(\"3-class MSE: \", mean_squared_error(y_test, y_pred))\n",
    "\n",
    "\n",
    "# =========================================================\n",
    "# 5-class SVM\n",
    "X = data.drop('avg_ws', axis=1)\n",
    "y = data['avg_ws']\n",
    "\n",
    "y = pd.qcut(y, q=[0, 0.5, 0.8, 0.9, 0.99, 1.0], labels=[0, 1, 2, 3, 4])\n",
    "\n",
    "cat_cols = ['school', 'country', 'position']\n",
    "\n",
    "preprocessor = ColumnTransformer(\n",
    "    transformers=[\n",
    "        ('cat', OneHotEncoder(handle_unknown='ignore'), cat_cols)\n",
    "    ],\n",
    "    remainder='passthrough'\n",
    ")\n",
    "\n",
    "pipeline = Pipeline(\n",
    "    steps=[\n",
    "        ('preprocessor', preprocessor),\n",
    "        ('scaler', StandardScaler(with_mean=False)),\n",
    "        ('svm', SVC(kernel='linear', C=1.0, decision_function_shape='ovr', random_state=420))\n",
    "    ]\n",
    ")\n",
    "\n",
    "X_train, X_test, y_train, y_test = train_test_split(X, y, test_size=0.2, random_state=420)\n",
    "\n",
    "pipeline.fit(X_train, y_train)\n",
    "y_pred = pipeline.predict(X_test)\n",
    "\n",
    "accuracy = pipeline.score(X_test, y_test)\n",
    "print(\"5-class accuracy:\", accuracy)\n",
    "print(\"5-class MSE: \", mean_squared_error(y_test, y_pred))"
   ]
  },
  {
   "cell_type": "markdown",
   "metadata": {},
   "source": [
    "In the multi-class SVM models, we decided to take a slightly different approach than that of the third paper, which used 2, 3, and 5-class SVM models. Here, we classified players by their win share percentiles. In the 2-class SVM, we split players into the top 20% of players (generally the starters) and the bottom 80% (non-starters). Here, we got an accuracy of around 78% with an MSE of 0.221. In the 3-class SVM, we split players into the bottom 50% (non-contributors), the next 40% (contributing players) and the top 10% (all-star level players). This gave us an accuracy of about 43% with an MSE of 0.885. Our classification breakdowns were inspired from the second paper, where the authors attempted to classify players as MVP candidates, All-Stars, starters, bench players, or non-contributing players, which we used distinctly for the 5-class SVM. The percentile cuts were the bottom 50%, the next 80%, the next 10%, the next 9%, and finally the top 1%, going from non-contributing players to all-star players. Our results performed better than simple guessing, as did those in the paper. The results in the paper were slightly better than ours for each classification breakdown; we feel that this is because the paper included college basketball performance data for each player, which, considering the impact that college performance *should* have on NBA peformance and SVM models' success in high-dimensional spaces, could explain the difference in accuracy. Additionally, considering the strong correlation between many NBA Draft measureables, we felt that combining PCA with our SVM could improve our results, which we (and the authors of the paper) explore in a following section."
   ]
  },
  {
   "cell_type": "markdown",
   "metadata": {},
   "source": [
    "## Multi-class SVM with PCA"
   ]
  },
  {
   "cell_type": "code",
   "execution_count": 125,
   "metadata": {},
   "outputs": [
    {
     "name": "stdout",
     "output_type": "stream",
     "text": [
      "2-class accuracy: 0.819672131147541\n",
      "2-class MSE:  0.18032786885245902\n",
      "3-class accuracy: 0.5409836065573771\n",
      "3-class MSE:  0.6311475409836066\n",
      "5-class accuracy: 0.5245901639344263\n",
      "5-class MSE:  1.5\n"
     ]
    }
   ],
   "source": [
    "# 2-class SVM\n",
    "X = data.drop('avg_ws', axis=1)\n",
    "y = data['avg_ws']\n",
    "\n",
    "y = pd.qcut(y, q=[0, 0.8, 1.0], labels=[0, 1])\n",
    "\n",
    "cat_cols = ['school', 'country', 'position']\n",
    "\n",
    "preprocessor = ColumnTransformer(\n",
    "    transformers=[\n",
    "        ('cat', OneHotEncoder(handle_unknown='ignore'), cat_cols)\n",
    "    ],\n",
    "    remainder='passthrough'\n",
    ")\n",
    "\n",
    "pipeline = Pipeline(\n",
    "    steps=[\n",
    "        ('preprocessor', preprocessor),\n",
    "        ('scaler', StandardScaler(with_mean=False)),\n",
    "        ('pca', PCA(n_components=10, svd_solver='arpack')),\n",
    "        ('svm', SVC(kernel='linear', C=1.0, decision_function_shape='ovr', random_state=420))\n",
    "    ]\n",
    ")\n",
    "\n",
    "X_train, X_test, y_train, y_test = train_test_split(X, y, test_size=0.2, random_state=420)\n",
    "\n",
    "pipeline.fit(X_train, y_train)\n",
    "y_pred = pipeline.predict(X_test)\n",
    "\n",
    "accuracy = pipeline.score(X_test, y_test)\n",
    "print(\"2-class accuracy:\", accuracy)\n",
    "print(\"2-class MSE: \", mean_squared_error(y_test, y_pred))\n",
    "\n",
    "# =========================================================\n",
    "# 3-class SVM\n",
    "X = data.drop('avg_ws', axis=1)\n",
    "y = data['avg_ws']\n",
    "\n",
    "y = pd.qcut(y, q=[0, 0.5, 0.9, 1.0], labels=[0, 1, 2])\n",
    "\n",
    "cat_cols = ['school', 'country', 'position']\n",
    "\n",
    "preprocessor = ColumnTransformer(\n",
    "    transformers=[\n",
    "        ('cat', OneHotEncoder(handle_unknown='ignore'), cat_cols)\n",
    "    ],\n",
    "    remainder='passthrough'\n",
    ")\n",
    "\n",
    "pipeline = Pipeline(\n",
    "    steps=[\n",
    "        ('preprocessor', preprocessor),\n",
    "        ('scaler', StandardScaler(with_mean=False)),\n",
    "        ('pca', PCA(n_components=10, svd_solver='arpack')),\n",
    "        ('svm', SVC(kernel='linear', C=1.0, decision_function_shape='ovr', random_state=420))\n",
    "    ]\n",
    ")\n",
    "\n",
    "X_train, X_test, y_train, y_test = train_test_split(X, y, test_size=0.2, random_state=420)\n",
    "\n",
    "pipeline.fit(X_train, y_train)\n",
    "y_pred = pipeline.predict(X_test)\n",
    "\n",
    "accuracy = pipeline.score(X_test, y_test)\n",
    "print(\"3-class accuracy:\", accuracy)\n",
    "print(\"3-class MSE: \", mean_squared_error(y_test, y_pred))\n",
    "\n",
    "# =========================================================\n",
    "# 5-class SVM\n",
    "X = data.drop('avg_ws', axis=1)\n",
    "y = data['avg_ws']\n",
    "\n",
    "y = pd.qcut(y, q=[0, 0.5, 0.8, 0.9, 0.99, 1.0], labels=[0, 1, 2, 3, 4])\n",
    "\n",
    "cat_cols = ['school', 'country', 'position']\n",
    "\n",
    "preprocessor = ColumnTransformer(\n",
    "    transformers=[\n",
    "        ('cat', OneHotEncoder(handle_unknown='ignore'), cat_cols)\n",
    "    ],\n",
    "    remainder='passthrough'\n",
    ")\n",
    "\n",
    "pipeline = Pipeline(\n",
    "    steps=[\n",
    "        ('preprocessor', preprocessor),\n",
    "        ('scaler', StandardScaler(with_mean=False)),\n",
    "        ('pca', PCA(n_components=10, svd_solver='arpack')),\n",
    "        ('svm', SVC(kernel='linear', C=1.0, decision_function_shape='ovr', random_state=420))\n",
    "    ]\n",
    ")\n",
    "\n",
    "X_train, X_test, y_train, y_test = train_test_split(X, y, test_size=0.2, random_state=420)\n",
    "\n",
    "pipeline.fit(X_train, y_train)\n",
    "y_pred = pipeline.predict(X_test)\n",
    "\n",
    "accuracy = pipeline.score(X_test, y_test)\n",
    "print(\"5-class accuracy:\", accuracy)\n",
    "print(\"5-class MSE: \", mean_squared_error(y_test, y_pred))"
   ]
  },
  {
   "cell_type": "markdown",
   "metadata": {},
   "source": [
    "Here we used the same strategy as before, but instead this time performing PCA. We thoroughly tested the number of components that would yield us the optimal results in our testing. We found n_components to be optimal at n=10. Here, our results are slightly better than without PCA, and and better than random guessing. Our 2-class accuracy was about 82% with an MSE of 0.180, our 3-class accuracy was about 54% with an MSE of 0.631, and our 5-class accuracy was about 52% with an MSE of 1.5. This is opposite to the results we found in the second paper, which found that PCA made their results slightly worse, and not using PCA was slightly better than random guessing. We do think they did perform slightly better than us on average, and again, we believe this is due to their inclusion of player data at the collegiate level, and not just NBA Combine data. Because our data was at a lower dimensionality than the paper's to begin with, PCA gave us the extra dimensionality the SVM needed to improve its accuracy."
   ]
  },
  {
   "cell_type": "markdown",
   "metadata": {},
   "source": [
    "## Random Forest with LOOCV"
   ]
  },
  {
   "cell_type": "code",
   "execution_count": 126,
   "metadata": {},
   "outputs": [
    {
     "name": "stdout",
     "output_type": "stream",
     "text": [
      "Overall LOOCV Mean Squared Error: 4.110532645206116\n"
     ]
    }
   ],
   "source": [
    "import numpy as np\n",
    "import pandas as pd\n",
    "from sklearn.ensemble import RandomForestRegressor\n",
    "from sklearn.model_selection import LeaveOneOut\n",
    "from sklearn.metrics import mean_squared_error\n",
    "\n",
    "X = data.drop('avg_ws', axis=1)\n",
    "y = data['avg_ws']\n",
    "X = X.reset_index(drop=True)\n",
    "y = y.reset_index(drop=True)\n",
    "\n",
    "# one hot encode the categorical columns\n",
    "X = pd.get_dummies(X, columns=['school', 'country', 'position'])\n",
    "\n",
    "# initialize rf regressor and loocv\n",
    "rf_regressor = RandomForestRegressor(random_state=420)\n",
    "loo = LeaveOneOut()\n",
    "mse_scores = []\n",
    "\n",
    "for train_index, test_index in loo.split(X):\n",
    "    X_train, X_test = X.iloc[train_index], X.iloc[test_index]\n",
    "    y_train, y_test = y[train_index], y[test_index]\n",
    "\n",
    "    # train the regressor\n",
    "    rf_regressor.fit(X_train, y_train)\n",
    "\n",
    "    #predict\n",
    "    y_pred = rf_regressor.predict(X_test)\n",
    "    \n",
    "    # calculate mse\n",
    "    mse_scores.append(mean_squared_error(y_test, y_pred))\n",
    "\n",
    "# calculate MSE\n",
    "overall_mse = np.mean(mse_scores)\n",
    "print(f\"Overall LOOCV Mean Squared Error: {overall_mse}\")"
   ]
  },
  {
   "cell_type": "markdown",
   "metadata": {},
   "source": [
    "The Random Forest Regressor using leave-one-out cross-validation performed similarly to the linear regression model with an MSE of 4.11. We expected it to perform better, since a lot of player combine measurements scale non-linearly with their on court performance. For example, there is a big difference between being 6'3\" and being able to shoot well vs 6'8\" and being able to shoot well, even though there is only a 5\" difference between the heights. With the large amount of one-hot encoded data (the colleges, countries, and positions of the players), we also expected it to perform well in not overfitting to this data. After researching, this appeared to be the best model choice. However, the paper that employed this model also had -- by far -- the most robust dataset, including college basketball performance statistics, high school recruitement rankings, and text from pre-NBA Draft scouting reports, which most likely explains the difference in performance. Access to college basketball performance statistics, for all of the models but especially this one, would have greatly improved our performace, but the data we could locate would have simply cut our number of records too low (there is only ample college basketball performance data for very recent players)."
   ]
  }
 ],
 "metadata": {
  "kernelspec": {
   "display_name": "Python 3 (ipykernel)",
   "language": "python",
   "name": "python3"
  },
  "language_info": {
   "codemirror_mode": {
    "name": "ipython",
    "version": 3
   },
   "file_extension": ".py",
   "mimetype": "text/x-python",
   "name": "python",
   "nbconvert_exporter": "python",
   "pygments_lexer": "ipython3",
   "version": "3.11.3"
  }
 },
 "nbformat": 4,
 "nbformat_minor": 4
}
